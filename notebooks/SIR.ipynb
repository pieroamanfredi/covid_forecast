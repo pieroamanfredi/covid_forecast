{
 "cells": [
  {
   "cell_type": "code",
   "execution_count": 7,
   "metadata": {},
   "outputs": [],
   "source": [
    "import pandas as pd\n",
    "import os\n",
    "import sys\n",
    "from pprint import pprint\n",
    "main_dir = os.path.abspath(os.pardir)\n",
    "sys.path.insert(0, main_dir)\n",
    "from analysis.download_data import download_foldname, jh_git_url, all_files"
   ]
  },
  {
   "cell_type": "code",
   "execution_count": 8,
   "metadata": {},
   "outputs": [
    {
     "name": "stdout",
     "output_type": "stream",
     "text": [
      "{'confirmed_global': 'time_series_covid19_confirmed_global.csv',\n",
      " 'deaths_global': 'time_series_covid19_deaths_global.csv',\n",
      " 'recovered_global': 'time_series_covid19_recovered_global.csv'}\n"
     ]
    }
   ],
   "source": [
    "friendly_fnames = [file.replace(\"time_series_covid19_\", \"\").replace(\".csv\", \"\") for file in all_files]\n",
    "filename_dct = dict(zip(friendly_fnames, all_files))\n",
    "pprint(filename_dct)"
   ]
  },
  {
   "cell_type": "code",
   "execution_count": 24,
   "metadata": {},
   "outputs": [
    {
     "name": "stdout",
     "output_type": "stream",
     "text": [
      "confirmed_global (249, 70)\n",
      "deaths_global (249, 70)\n",
      "recovered_global (235, 70)\n"
     ]
    }
   ],
   "source": [
    "df_dct = dict()\n",
    "for file in filename_dct.keys():\n",
    "    df_dct[file] = pd.read_csv(jh_git_url+filename_dct[file])  # reads csv from github repo\n",
    "    exec(file+\"_df = df_dct['\"+file+\"']\")  # creates a reference for friendly_names + \"_df\"\n",
    "    print(file, df_dct[file].shape)"
   ]
  }
 ],
 "metadata": {
  "kernelspec": {
   "display_name": "Python 3",
   "language": "python",
   "name": "python3"
  },
  "language_info": {
   "codemirror_mode": {
    "name": "ipython",
    "version": 3
   },
   "file_extension": ".py",
   "mimetype": "text/x-python",
   "name": "python",
   "nbconvert_exporter": "python",
   "pygments_lexer": "ipython3",
   "version": "3.7.6"
  }
 },
 "nbformat": 4,
 "nbformat_minor": 4
}
