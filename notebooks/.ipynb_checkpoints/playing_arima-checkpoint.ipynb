{
 "cells": [
  {
   "cell_type": "markdown",
   "metadata": {},
   "source": [
    "Let's check this glorious repo from R in Python\n",
    "Some explanation here https://youtu.be/10pvXLKw5dQ\n",
    "This file is also in /analysis with details.\n",
    "\n",
    "Blogs:\n",
    "1) Basic explanation ARIMA https://www.analyticsvidhya.com/blog/2018/08/auto-arima-time-series-modeling-python-r/\n",
    "3) Comprehensive example is you would like to see what is ARIMA:\n",
    " https://datafai.com/auto-arima-using-pyramid-arima-python-package/\n",
    "\n",
    "Library:\n",
    "1) https://pypi.org/project/pmdarima/\n",
    "2) http://alkaline-ml.com/pmdarima/0.9.0/setup.html"
   ]
  },
  {
   "cell_type": "code",
   "execution_count": 10,
   "metadata": {},
   "outputs": [],
   "source": [
    "import sys\n",
    "import os\n",
    "from tqdm import tqdm\n",
    "import pmdarima as pm\n",
    "from pmdarima.model_selection import train_test_split\n",
    "import numpy as np\n",
    "import matplotlib.pyplot as plt\n",
    "from datetime import timedelta\n",
    "import pandas as pd\n",
    "#sys.path.insert(0,'../../../covid_forcast')\n",
    "sys.path.insert(0, os.path.abspath('../../covid_forecast'))\n",
    "from covid_forecast.utils.data_io import get_data, download_the_data\n",
    "from covid_forecast.utils.visualizations import plt_arima_forecast,plt_arima_forecast_outsample\n",
    "\n",
    "\n",
    "# where to save things\n",
    "OUTPUT = '../outputs/arima'\n",
    "os.makedirs(OUTPUT,exist_ok=True)"
   ]
  },
  {
   "cell_type": "markdown",
   "metadata": {},
   "source": [
    "In case you need to refresh the data, you need a folder /data. From www.ecdc.europa.eu."
   ]
  },
  {
   "cell_type": "code",
   "execution_count": 11,
   "metadata": {},
   "outputs": [
    {
     "name": "stdout",
     "output_type": "stream",
     "text": [
      "href=\"https://www.ecdc.europa.eu/sites/default/files/documents/COVID-19-geographic-disbtribution-worldwide-2020-03-21.xlsx\"\n"
     ]
    }
   ],
   "source": [
    "download_the_data()"
   ]
  },
  {
   "cell_type": "markdown",
   "metadata": {},
   "source": [
    "# Load the data"
   ]
  },
  {
   "cell_type": "code",
   "execution_count": 15,
   "metadata": {},
   "outputs": [],
   "source": [
    "data = get_data()"
   ]
  },
  {
   "cell_type": "code",
   "execution_count": null,
   "metadata": {},
   "outputs": [],
   "source": [
    "# Quick look to the data. Source www.ecdc.europa.eu"
   ]
  },
  {
   "cell_type": "code",
   "execution_count": 34,
   "metadata": {},
   "outputs": [
    {
     "data": {
      "text/html": [
       "<div>\n",
       "<style scoped>\n",
       "    .dataframe tbody tr th:only-of-type {\n",
       "        vertical-align: middle;\n",
       "    }\n",
       "\n",
       "    .dataframe tbody tr th {\n",
       "        vertical-align: top;\n",
       "    }\n",
       "\n",
       "    .dataframe thead th {\n",
       "        text-align: right;\n",
       "    }\n",
       "</style>\n",
       "<table border=\"1\" class=\"dataframe\">\n",
       "  <thead>\n",
       "    <tr style=\"text-align: right;\">\n",
       "      <th></th>\n",
       "      <th>DateRep</th>\n",
       "      <th>Day</th>\n",
       "      <th>Month</th>\n",
       "      <th>Year</th>\n",
       "      <th>Cases</th>\n",
       "      <th>Deaths</th>\n",
       "      <th>Countries and territories</th>\n",
       "      <th>GeoId</th>\n",
       "    </tr>\n",
       "  </thead>\n",
       "  <tbody>\n",
       "    <tr>\n",
       "      <th>0</th>\n",
       "      <td>2020-03-21</td>\n",
       "      <td>21</td>\n",
       "      <td>3</td>\n",
       "      <td>2020</td>\n",
       "      <td>2</td>\n",
       "      <td>0</td>\n",
       "      <td>Afghanistan</td>\n",
       "      <td>AF</td>\n",
       "    </tr>\n",
       "    <tr>\n",
       "      <th>1</th>\n",
       "      <td>2020-03-20</td>\n",
       "      <td>20</td>\n",
       "      <td>3</td>\n",
       "      <td>2020</td>\n",
       "      <td>0</td>\n",
       "      <td>0</td>\n",
       "      <td>Afghanistan</td>\n",
       "      <td>AF</td>\n",
       "    </tr>\n",
       "    <tr>\n",
       "      <th>2</th>\n",
       "      <td>2020-03-19</td>\n",
       "      <td>19</td>\n",
       "      <td>3</td>\n",
       "      <td>2020</td>\n",
       "      <td>0</td>\n",
       "      <td>0</td>\n",
       "      <td>Afghanistan</td>\n",
       "      <td>AF</td>\n",
       "    </tr>\n",
       "    <tr>\n",
       "      <th>3</th>\n",
       "      <td>2020-03-18</td>\n",
       "      <td>18</td>\n",
       "      <td>3</td>\n",
       "      <td>2020</td>\n",
       "      <td>1</td>\n",
       "      <td>0</td>\n",
       "      <td>Afghanistan</td>\n",
       "      <td>AF</td>\n",
       "    </tr>\n",
       "    <tr>\n",
       "      <th>4</th>\n",
       "      <td>2020-03-17</td>\n",
       "      <td>17</td>\n",
       "      <td>3</td>\n",
       "      <td>2020</td>\n",
       "      <td>5</td>\n",
       "      <td>0</td>\n",
       "      <td>Afghanistan</td>\n",
       "      <td>AF</td>\n",
       "    </tr>\n",
       "  </tbody>\n",
       "</table>\n",
       "</div>"
      ],
      "text/plain": [
       "     DateRep  Day  Month  Year  Cases  Deaths Countries and territories GeoId\n",
       "0 2020-03-21   21      3  2020      2       0               Afghanistan    AF\n",
       "1 2020-03-20   20      3  2020      0       0               Afghanistan    AF\n",
       "2 2020-03-19   19      3  2020      0       0               Afghanistan    AF\n",
       "3 2020-03-18   18      3  2020      1       0               Afghanistan    AF\n",
       "4 2020-03-17   17      3  2020      5       0               Afghanistan    AF"
      ]
     },
     "execution_count": 34,
     "metadata": {},
     "output_type": "execute_result"
    }
   ],
   "source": [
    "data.head()"
   ]
  },
  {
   "cell_type": "code",
   "execution_count": 35,
   "metadata": {},
   "outputs": [
    {
     "data": {
      "text/html": [
       "<div>\n",
       "<style scoped>\n",
       "    .dataframe tbody tr th:only-of-type {\n",
       "        vertical-align: middle;\n",
       "    }\n",
       "\n",
       "    .dataframe tbody tr th {\n",
       "        vertical-align: top;\n",
       "    }\n",
       "\n",
       "    .dataframe thead th {\n",
       "        text-align: right;\n",
       "    }\n",
       "</style>\n",
       "<table border=\"1\" class=\"dataframe\">\n",
       "  <thead>\n",
       "    <tr style=\"text-align: right;\">\n",
       "      <th></th>\n",
       "      <th>Day</th>\n",
       "      <th>Month</th>\n",
       "      <th>Year</th>\n",
       "      <th>Cases</th>\n",
       "      <th>Deaths</th>\n",
       "    </tr>\n",
       "  </thead>\n",
       "  <tbody>\n",
       "    <tr>\n",
       "      <th>count</th>\n",
       "      <td>6012.000000</td>\n",
       "      <td>6012.000000</td>\n",
       "      <td>6012.000000</td>\n",
       "      <td>6012.000000</td>\n",
       "      <td>6012.000000</td>\n",
       "    </tr>\n",
       "    <tr>\n",
       "      <th>mean</th>\n",
       "      <td>15.041916</td>\n",
       "      <td>2.086161</td>\n",
       "      <td>2019.988856</td>\n",
       "      <td>45.137059</td>\n",
       "      <td>1.871590</td>\n",
       "    </tr>\n",
       "    <tr>\n",
       "      <th>std</th>\n",
       "      <td>8.092764</td>\n",
       "      <td>1.331532</td>\n",
       "      <td>0.104986</td>\n",
       "      <td>358.512354</td>\n",
       "      <td>18.530837</td>\n",
       "    </tr>\n",
       "    <tr>\n",
       "      <th>min</th>\n",
       "      <td>1.000000</td>\n",
       "      <td>1.000000</td>\n",
       "      <td>2019.000000</td>\n",
       "      <td>-9.000000</td>\n",
       "      <td>0.000000</td>\n",
       "    </tr>\n",
       "    <tr>\n",
       "      <th>25%</th>\n",
       "      <td>8.000000</td>\n",
       "      <td>1.000000</td>\n",
       "      <td>2020.000000</td>\n",
       "      <td>0.000000</td>\n",
       "      <td>0.000000</td>\n",
       "    </tr>\n",
       "    <tr>\n",
       "      <th>50%</th>\n",
       "      <td>15.000000</td>\n",
       "      <td>2.000000</td>\n",
       "      <td>2020.000000</td>\n",
       "      <td>0.000000</td>\n",
       "      <td>0.000000</td>\n",
       "    </tr>\n",
       "    <tr>\n",
       "      <th>75%</th>\n",
       "      <td>21.000000</td>\n",
       "      <td>3.000000</td>\n",
       "      <td>2020.000000</td>\n",
       "      <td>2.000000</td>\n",
       "      <td>0.000000</td>\n",
       "    </tr>\n",
       "    <tr>\n",
       "      <th>max</th>\n",
       "      <td>31.000000</td>\n",
       "      <td>12.000000</td>\n",
       "      <td>2020.000000</td>\n",
       "      <td>15141.000000</td>\n",
       "      <td>625.000000</td>\n",
       "    </tr>\n",
       "  </tbody>\n",
       "</table>\n",
       "</div>"
      ],
      "text/plain": [
       "               Day        Month         Year         Cases       Deaths\n",
       "count  6012.000000  6012.000000  6012.000000   6012.000000  6012.000000\n",
       "mean     15.041916     2.086161  2019.988856     45.137059     1.871590\n",
       "std       8.092764     1.331532     0.104986    358.512354    18.530837\n",
       "min       1.000000     1.000000  2019.000000     -9.000000     0.000000\n",
       "25%       8.000000     1.000000  2020.000000      0.000000     0.000000\n",
       "50%      15.000000     2.000000  2020.000000      0.000000     0.000000\n",
       "75%      21.000000     3.000000  2020.000000      2.000000     0.000000\n",
       "max      31.000000    12.000000  2020.000000  15141.000000   625.000000"
      ]
     },
     "execution_count": 35,
     "metadata": {},
     "output_type": "execute_result"
    }
   ],
   "source": [
    "data.describe()"
   ]
  },
  {
   "cell_type": "markdown",
   "metadata": {},
   "source": [
    "# Countries to work with"
   ]
  },
  {
   "cell_type": "code",
   "execution_count": 16,
   "metadata": {},
   "outputs": [
    {
     "data": {
      "text/plain": [
       "Index(['DateRep', 'Day', 'Month', 'Year', 'Cases', 'Deaths',\n",
       "       'Countries and territories', 'GeoId'],\n",
       "      dtype='object')"
      ]
     },
     "execution_count": 16,
     "metadata": {},
     "output_type": "execute_result"
    }
   ],
   "source": [
    "data.columns"
   ]
  },
  {
   "cell_type": "code",
   "execution_count": 31,
   "metadata": {},
   "outputs": [
    {
     "data": {
      "text/plain": [
       "['China',\n",
       " 'Italy',\n",
       " 'Germany',\n",
       " 'India',\n",
       " 'Spain',\n",
       " 'United_Kingdom',\n",
       " 'United_States_of_America',\n",
       " 'Lithuania',\n",
       " 'Cyprus']"
      ]
     },
     "execution_count": 31,
     "metadata": {},
     "output_type": "execute_result"
    }
   ],
   "source": [
    "# All countries\n",
    "# country_list = data['Countries and territories'].unique()\n",
    "country_list = ['China', 'Italy', 'Germany', 'India', 'Spain', 'United_Kingdom', 'United_States_of_America',\n",
    "                     'Lithuania', 'Cyprus']\n",
    "country_list"
   ]
  },
  {
   "cell_type": "markdown",
   "metadata": {},
   "source": [
    "# Where eveything happends"
   ]
  },
  {
   "cell_type": "code",
   "execution_count": 32,
   "metadata": {},
   "outputs": [
    {
     "name": "stderr",
     "output_type": "stream",
     "text": [
      "  0%|          | 0/9 [00:00<?, ?it/s]"
     ]
    },
    {
     "name": "stdout",
     "output_type": "stream",
     "text": [
      "Working on: China\n"
     ]
    },
    {
     "name": "stderr",
     "output_type": "stream",
     "text": [
      " 11%|█         | 1/9 [00:02<00:18,  2.37s/it]"
     ]
    },
    {
     "name": "stdout",
     "output_type": "stream",
     "text": [
      "Working on: Italy\n"
     ]
    },
    {
     "name": "stderr",
     "output_type": "stream",
     "text": [
      " 22%|██▏       | 2/9 [00:07<00:22,  3.20s/it]"
     ]
    },
    {
     "name": "stdout",
     "output_type": "stream",
     "text": [
      "Working on: Germany\n"
     ]
    },
    {
     "name": "stderr",
     "output_type": "stream",
     "text": [
      " 33%|███▎      | 3/9 [00:08<00:16,  2.68s/it]"
     ]
    },
    {
     "name": "stdout",
     "output_type": "stream",
     "text": [
      "Working on: India\n"
     ]
    },
    {
     "name": "stderr",
     "output_type": "stream",
     "text": [
      "/opt/anaconda3/envs/covid_forecast/lib/python3.7/site-packages/statsmodels/tsa/statespace/sarimax.py:1886: RuntimeWarning: divide by zero encountered in reciprocal\n",
      "  return np.roots(self.polynomial_reduced_ar)**-1\n",
      "/opt/anaconda3/envs/covid_forecast/lib/python3.7/site-packages/pmdarima/arima/_auto_solvers.py:386: ModelFitWarning: Unable to fit ARIMA for (1, 1, 2)x(0, 0, 0, 0); data is likely non-stationary. (if you do not want to see these warnings, run with error_action=\"ignore\")\n",
      "  ModelFitWarning)\n",
      "/opt/anaconda3/envs/covid_forecast/lib/python3.7/site-packages/statsmodels/tsa/statespace/sarimax.py:1886: RuntimeWarning: divide by zero encountered in reciprocal\n",
      "  return np.roots(self.polynomial_reduced_ar)**-1\n",
      "/opt/anaconda3/envs/covid_forecast/lib/python3.7/site-packages/pmdarima/arima/_auto_solvers.py:386: ModelFitWarning: Unable to fit ARIMA for (2, 1, 2)x(0, 0, 0, 0); data is likely non-stationary. (if you do not want to see these warnings, run with error_action=\"ignore\")\n",
      "  ModelFitWarning)\n",
      " 44%|████▍     | 4/9 [00:10<00:11,  2.25s/it]"
     ]
    },
    {
     "name": "stdout",
     "output_type": "stream",
     "text": [
      "Working on: Spain\n"
     ]
    },
    {
     "name": "stderr",
     "output_type": "stream",
     "text": [
      " 56%|█████▌    | 5/9 [00:15<00:12,  3.08s/it]"
     ]
    },
    {
     "name": "stdout",
     "output_type": "stream",
     "text": [
      "Working on: United_Kingdom\n"
     ]
    },
    {
     "name": "stderr",
     "output_type": "stream",
     "text": [
      " 67%|██████▋   | 6/9 [00:18<00:09,  3.10s/it]"
     ]
    },
    {
     "name": "stdout",
     "output_type": "stream",
     "text": [
      "Working on: United_States_of_America\n"
     ]
    },
    {
     "name": "stderr",
     "output_type": "stream",
     "text": [
      " 78%|███████▊  | 7/9 [00:20<00:05,  2.66s/it]"
     ]
    },
    {
     "name": "stdout",
     "output_type": "stream",
     "text": [
      "Working on: Lithuania\n"
     ]
    },
    {
     "name": "stderr",
     "output_type": "stream",
     "text": [
      "/opt/anaconda3/envs/covid_forecast/lib/python3.7/site-packages/pmdarima/arima/auto.py:328: UserWarning: Input time-series is completely constant; returning a (0, 0, 0) ARMA.\n",
      "  warnings.warn('Input time-series is completely constant; '\n",
      " 89%|████████▉ | 8/9 [00:20<00:02,  2.02s/it]"
     ]
    },
    {
     "name": "stdout",
     "output_type": "stream",
     "text": [
      "too many indices for array\n",
      "Working on: Cyprus\n"
     ]
    },
    {
     "name": "stderr",
     "output_type": "stream",
     "text": [
      "/opt/anaconda3/envs/covid_forecast/lib/python3.7/site-packages/pmdarima/arima/auto.py:328: UserWarning: Input time-series is completely constant; returning a (0, 0, 0) ARMA.\n",
      "  warnings.warn('Input time-series is completely constant; '\n",
      "100%|██████████| 9/9 [00:21<00:00,  2.39s/it]\n"
     ]
    },
    {
     "data": {
      "text/plain": [
       "<Figure size 432x288 with 0 Axes>"
      ]
     },
     "metadata": {},
     "output_type": "display_data"
    }
   ],
   "source": [
    "data = get_data()\n",
    "\n",
    "report_country = pd.DataFrame()\n",
    "for country in tqdm(country_list):\n",
    "    report = pd.DataFrame()\n",
    "    print('Working on: {}'.format(country))\n",
    "    first_variable = pd.DataFrame()\n",
    "    for variable in ['Cases', 'Deaths']:\n",
    "        try:\n",
    "            data_ = data[data['Countries and territories'] == country].copy()\n",
    "            data_ = data_.sort_values(by='DateRep')\n",
    "            # Triming initial zeros\n",
    "            remove_initia_zeros = np.trim_zeros(data_[variable]).__len__()\n",
    "            # y = data_[variable][0:remove_initia_zeros]\n",
    "            y = data_[variable][-remove_initia_zeros:]\n",
    "            data_labels = data_['DateRep'][-remove_initia_zeros:]\n",
    "            # taking the last 3. # Change it to any other amount\n",
    "            lenght_for_forecast = 3\n",
    "            # Fit your model\n",
    "            model = pm.auto_arima(y, seasonal=False, suppress_warnings=True)\n",
    "            # make your forecasts\n",
    "            # predict N steps into the future\n",
    "            forecasts, conf_int = model.predict(lenght_for_forecast, return_conf_int=True)\n",
    "            # Adding labels for each new day\n",
    "            data_labels = data_labels.to_list()\n",
    "            for i in range(1,lenght_for_forecast+1):\n",
    "                data_labels.append(data_labels[-1] + timedelta(1))\n",
    "            forecasts, conf_int = model.predict(lenght_for_forecast, return_conf_int=True)\n",
    "            # Visualize the forecasts (blue=train, green=forecasts)\n",
    "            plt_arima_forecast_outsample(y, forecasts, conf_int=conf_int,\n",
    "                       title=country,\n",
    "                       y_label=variable,\n",
    "                       x=data_labels,\n",
    "                       save_here=OUTPUT + '/forecast_next_3days_{}_{}.png'.format(country, variable))\n",
    "            # To save the data\n",
    "            df_for_data = pd.DataFrame()\n",
    "            df_for_data = pd.DataFrame(y.to_list()+forecasts.tolist(),\n",
    "                columns=[variable])\n",
    "            df_for_data['Countries and territories'] = country\n",
    "            df_for_data['DateRep'] = data_labels\n",
    "            if first_variable.empty:\n",
    "                first_variable = df_for_data\n",
    "            else:\n",
    "                first_variable = first_variable.merge(df_for_data, on=('DateRep', 'Countries and territories'))\n",
    "        except Exception as e: print(e)\n",
    "    if report.empty:\n",
    "        report = first_variable\n",
    "    else:\n",
    "        report = pd.concat([report, first_variable])\n",
    "if report_country.empty:\n",
    "    report_country = report\n",
    "else:\n",
    "    report_country = pd.concat([report_country, report])\n",
    "# Creation of report\n",
    "report_country.to_csv(OUTPUT+\"/forecast_next_free_days.csv\")"
   ]
  },
  {
   "cell_type": "markdown",
   "metadata": {},
   "source": [
    "# Now let see some of the pics\n",
    "## Spain\n",
    "![Drag Racing](../outputs/arima/forecast_next_3days_Spain_Deaths.png)\n",
    "![Drag Racing](../outputs/arima/forecast_next_3days_Spain_Cases.png)"
   ]
  },
  {
   "cell_type": "markdown",
   "metadata": {},
   "source": [
    "## United Kingdom\n",
    "![Drag Racing](../outputs/arima/forecast_next_3days_United_Kingdom_Deaths.png)\n",
    "![Drag Racing](../outputs/arima/forecast_next_3days_United_Kingdom_Cases.png)"
   ]
  },
  {
   "cell_type": "markdown",
   "metadata": {},
   "source": [
    "## India\n",
    "![Drag Racing](../outputs/arima/forecast_next_3days_India_Deaths.png)\n",
    "![Drag Racing](../outputs/arima/forecast_next_3days_India_Cases.png)"
   ]
  },
  {
   "cell_type": "markdown",
   "metadata": {},
   "source": [
    "## United_States_of_America\n",
    "![Drag Racing](../outputs/arima/forecast_next_3days_United_States_of_America_Deaths.png)\n",
    "![Drag Racing](../outputs/arima/forecast_next_3days_United_States_of_America_Cases.png)\n"
   ]
  },
  {
   "cell_type": "code",
   "execution_count": null,
   "metadata": {},
   "outputs": [],
   "source": []
  },
  {
   "cell_type": "code",
   "execution_count": null,
   "metadata": {},
   "outputs": [],
   "source": []
  }
 ],
 "metadata": {
  "kernelspec": {
   "display_name": "Python 3",
   "language": "python",
   "name": "python3"
  },
  "language_info": {
   "codemirror_mode": {
    "name": "ipython",
    "version": 3
   },
   "file_extension": ".py",
   "mimetype": "text/x-python",
   "name": "python",
   "nbconvert_exporter": "python",
   "pygments_lexer": "ipython3",
   "version": "3.7.6"
  }
 },
 "nbformat": 4,
 "nbformat_minor": 4
}
